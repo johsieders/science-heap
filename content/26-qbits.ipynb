{
 "cells": [
  {
   "cell_type": "markdown",
   "source": [
    "## placeholder"
   ],
   "metadata": {
    "collapsed": false,
    "pycharm": {
     "name": "#%% md\n"
    }
   }
  },
  {
   "cell_type": "markdown",
   "source": [],
   "metadata": {
    "collapsed": false
   }
  },
  {
   "cell_type": "markdown",
   "source": [],
   "metadata": {
    "collapsed": false
   }
  },
  {
   "cell_type": "markdown",
   "source": [
    "## Qbits"
   ],
   "metadata": {
    "collapsed": false
   }
  },
  {
   "metadata": {},
   "cell_type": "markdown",
   "source": ""
  },
  {
   "cell_type": "markdown",
   "source": [
    "Bits are counted in billions, qbits in tens or so. Why are there so few? Because $n$ bits hold exactly one number of size $2^n$, whereas $n$ qbits can hold $2^n$ complex numbers at a time! So a quantum computer with 100 qbits would store an unimaginable amount of data. This is the first and most important difference between conventional and quantum computers.\n",
    "\n",
    "<img src=\"classical-mech-1.jpg\" alt=\"classical mechanics\" width=\"500\">\n",
    "\n",
    "\n",
    "In order to understand how this is possible, let us start with a single qbit. A conventional bit is either $0$ or $1$, with nothing in between. A qbit $q$ can be $0$, $1$ or in a *superposition* of the two *base states*. Superposition means that there are complex numbers $\\alpha_0$ and $\\alpha_1$ which describe the probability that $q$ is $0$ or $1$:\n",
    "\n",
    "<br>\n",
    "\n",
    "$ P[q = i] = \\alpha_i^2 \\text{  for }i = 0, 1$\n",
    "\n",
    "For $\\alpha^2$ to be a probability we assume that\n",
    "<br>\n",
    "\n",
    "$\\lVert \\alpha \\lVert^2 = \\alpha_0^2 + \\alpha_1^2 = 1$\n",
    "\n",
    "The vector $\\alpha = \\begin{bmatrix}\n",
    "  \\alpha_0 \\\\\n",
    "  \\alpha_1\n",
    "\\end{bmatrix}$ is the *state* of our qbit, and also the simplest variety of what is called a *wave function* in quantum mechanics. \n",
    " << Qbits can be measured, but only once. >>\n",
    "Superposition is often illustrated by Schrödinger's cat living in a box with a poison pill. It's only when you open the box that you see whether the cat is alive or dead. I don't like this image, because it doesn't explain anything and it's misleading: quantum physicists don't kill cats. A much better image is that of a coin: Think of a qbit as a tampered coin that flips head and tail with probabilities of $\\alpha_0^2$ and $\\alpha_1^2$. This coin stores information, namely two numbers, $\\alpha_0^2$ and $\\alpha_1^2$, to any precision! The numbers can be obtained by repeated tosses of the coin --- a few tosses for a rough estimate, a thousand tosses or more for any degree of accuracy. The flip of the coin is equivalent to the measurement of the qbit, but here the analogy ends: you can flip the coin as many times as you like, but a qbit can only be measured once. Measuring a qbit breaks the wave function; subsequently measuring the same qbit will produce the same result over and over. To make repeated measurements, you need many identical qbits. We will soon see how to obtain them in practice.\n",
    "\n",
    "We need some formalism: We call the vector $\\alpha = \\begin{bmatrix}\n",
    "  \\alpha_0 \\\\\n",
    "  \\alpha_1\n",
    "\\end{bmatrix}$ the *state of the qbit*. The *base states*, in ket notation $\\[|0\\rangle\\]$ and $ \\[|1\\rangle\\]$, represent the basis of a 2-dimensional complex vector space, that's the *Hilbert space* where the wave functions live. The ket notation is just another notation, no mystery: The base states could have been denoted by, say, $b_0$ and $b_1$, but nobody does. We write as usual $\\alpha = \\begin{bmatrix}\n",
    "  \\alpha_0 \\\\\n",
    "  \\alpha_1\n",
    "\\end{bmatrix} = \\alpha_0 \\[| 0\\rangle\\] + \\alpha_1 \\[|1\\rangle\\]$, so, for example: $\\begin{bmatrix}\n",
    "   1 \\\\\n",
    "  -1\n",
    "\\end{bmatrix} = \\[|0\\rangle \\] - \\[|1\\rangle\\] $. A qbit in a base state is either $0$ or $1$, just like a conventional bit. Each state is a linear combination of the base states and its norm is $1$.\n",
    "\n",
    "\n",
    "\n",
    "\n"
   ],
   "metadata": {
    "collapsed": false
   }
  },
  {
   "cell_type": "markdown",
   "source": [
    "## Entangling"
   ],
   "metadata": {
    "collapsed": false
   }
  },
  {
   "cell_type": "markdown",
   "source": [
    "## Quantum Gates"
   ],
   "metadata": {
    "collapsed": false
   }
  },
  {
   "cell_type": "markdown",
   "source": [
    "### X and CX"
   ],
   "metadata": {
    "collapsed": false
   }
  },
  {
   "cell_type": "markdown",
   "source": [
    "### Hadamard"
   ],
   "metadata": {
    "collapsed": false
   }
  },
  {
   "cell_type": "markdown",
   "source": [
    "## Storing functions, the matrix $U_f$ "
   ],
   "metadata": {
    "collapsed": false
   }
  },
  {
   "cell_type": "markdown",
   "source": [
    "We are given a function $f: \\{0, 1\\}^n -> \\{0, 1\\}$.\n",
    "How can we store $f$ in a quantum computer? In classical programming we would just use a map, but there\n",
    "are no maps in quantum computing. The way to go is as follows: Let  \n",
    "\n",
    "$X =\\begin{bmatrix}\n",
    "  0 & 1 \\\\\n",
    "  1 & 0\n",
    "\\end{bmatrix}$\n",
    "\n",
    "\n",
    "Then $X^0 \\begin{bmatrix}\n",
    "   1  \\\\\n",
    "  -1\n",
    "\\end{bmatrix}\n",
    " =\n",
    "\\begin{bmatrix}\n",
    "   1  \\\\\n",
    "  -1\n",
    "\\end{bmatrix}$\n",
    "\n",
    "and $X^1\n",
    "\\begin{bmatrix}\n",
    "  1  \\\\\n",
    "  -1\n",
    "\\end{bmatrix} =\n",
    "\\begin{bmatrix}\n",
    "  -1  \\\\\n",
    "  1\n",
    "\\end{bmatrix}$\n",
    "\n",
    "\n",
    "The idea is to represent $f$ as a $(2N \\times 2N)$-Matrix $U_f$ with $N = 2^n$:\n",
    "\n",
    "$\n",
    "U_f = \\underbrace{\\begin{bmatrix}\n",
    "\\ddots  \\\\\n",
    "& X^{f(x)} \\\\\n",
    "& & \\ddots \\\\\n",
    "\\end{bmatrix}}_{2N \\times 2N} $\n",
    "\n",
    "$\n",
    "U_f : \\underbrace{\\left[\\begin{array}{c}\n",
    "\\vdots \\\\\n",
    "f(x) \\\\\n",
    "\\vdots \\\\\n",
    "\\end{array}\\right]}_{N \\times 1}\n",
    "$\n",
    "\n"
   ],
   "metadata": {
    "collapsed": false,
    "pycharm": {
     "name": "#%% md\n"
    }
   }
  },
  {
   "cell_type": "code",
   "execution_count": null,
   "outputs": [],
   "source": [],
   "metadata": {
    "collapsed": false,
    "ExecuteTime": {
     "end_time": "2023-12-14T17:38:38.227765300Z",
     "start_time": "2023-12-14T17:38:38.185323800Z"
    }
   }
  }
 ],
 "metadata": {
  "kernelspec": {
   "display_name": "Python 3",
   "language": "python",
   "name": "python3"
  },
  "language_info": {
   "codemirror_mode": {
    "name": "ipython",
    "version": 2
   },
   "file_extension": ".py",
   "mimetype": "text/x-python",
   "name": "python",
   "nbconvert_exporter": "python",
   "pygments_lexer": "ipython2",
   "version": "2.7.6"
  }
 },
 "nbformat": 4,
 "nbformat_minor": 0
}
